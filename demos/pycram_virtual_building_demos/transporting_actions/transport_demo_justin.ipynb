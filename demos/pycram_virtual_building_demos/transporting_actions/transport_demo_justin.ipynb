{
 "cells": [
  {
   "cell_type": "markdown",
   "id": "c6f8ca057e1cbf03",
   "metadata": {
    "collapsed": false,
    "jupyter": {
     "outputs_hidden": false
    }
   },
   "source": [
    "Copyright © 2024 Vanessa Hassouna."
   ]
  },
  {
   "cell_type": "markdown",
   "id": "ae640355c05ab4fb",
   "metadata": {
    "collapsed": false,
    "jupyter": {
     "outputs_hidden": false
    }
   },
   "source": [
    "This Work is licensed under the [BSD 3-Clause](https://opensource.org/licenses/BSD-3-Clause) License."
   ]
  },
  {
   "cell_type": "markdown",
   "id": "3c264b450157ad5b",
   "metadata": {
    "collapsed": false,
    "jupyter": {
     "outputs_hidden": false
    }
   },
   "source": [
    " If you have questions or the demo is not working, write to the author at hassouna@uni-bremen.de."
   ]
  },
  {
   "cell_type": "markdown",
   "id": "dec8b9846d4ca78b",
   "metadata": {
    "collapsed": false,
    "jupyter": {
     "outputs_hidden": false
    }
   },
   "source": [
    "# Live Demo"
   ]
  },
  {
   "cell_type": "code",
   "execution_count": 1,
   "id": "8b9dba5e085e3b4e",
   "metadata": {
    "collapsed": false,
    "jupyter": {
     "outputs_hidden": false
    }
   },
   "outputs": [
    {
     "data": {
      "application/vnd.jupyter.widget-view+json": {
       "model_id": "ee743bf16ff7412d9e44aef21aacf58c",
       "version_major": 2,
       "version_minor": 0
      },
      "text/plain": [
       "Button(description='Execute Task', style=ButtonStyle())"
      ]
     },
     "metadata": {},
     "output_type": "display_data"
    },
    {
     "data": {
      "application/vnd.jupyter.widget-view+json": {
       "model_id": "deb20c76edcb4be5b14c2e540344ce6f",
       "version_major": 2,
       "version_minor": 0
      },
      "text/plain": [
       "Output()"
      ]
     },
     "metadata": {},
     "output_type": "display_data"
    }
   ],
   "source": [
    "from transport_demos.transporting_task import start_transporting_demo\n",
    "from transport_demos.start_trasporting_task_justin import start_demo\n",
    "\n",
    "start_demo(start_transporting_demo)"
   ]
  },
  {
   "cell_type": "code",
   "execution_count": 1,
   "id": "cd32a8a54a2d1f22",
   "metadata": {
    "ExecuteTime": {
     "end_time": "2024-09-03T20:53:41.956112466Z",
     "start_time": "2024-09-03T20:53:41.930591162Z"
    },
    "collapsed": false,
    "jupyter": {
     "outputs_hidden": false
    }
   },
   "outputs": [],
   "source": []
  }
 ],
 "metadata": {
  "kernelspec": {
   "display_name": "Python 3 (ipykernel)",
   "language": "python",
   "name": "python3"
  },
  "language_info": {
   "codemirror_mode": {
    "name": "ipython",
    "version": 3
   },
   "file_extension": ".py",
   "mimetype": "text/x-python",
   "name": "python",
   "nbconvert_exporter": "python",
   "pygments_lexer": "ipython3",
   "version": "3.8.10"
  }
 },
 "nbformat": 4,
 "nbformat_minor": 5
}
