{
 "cells": [
  {
   "cell_type": "markdown",
   "id": "ef05df65",
   "metadata": {},
   "source": [
    "# Motion Designator\n",
    "Motion designator are similar to action designator, but unlike action designator, motion designator represent atomar low-level motions. Motion designator only take the parameter that they should execute and not a list of possible parameter, like the other designator. Like action designator motion designator can be performed, performing motion designator verifies the parameter and passes the designator to the respective process module. \n",
    "\n",
    "Since motion designaotr perform motion on the robot, we need a robot which we can use. Therefore, we will create a BulletWorld as well as a PR2 robot."
   ]
  },
  {
   "cell_type": "code",
   "execution_count": 1,
   "id": "7f7c74ae",
   "metadata": {},
   "outputs": [
    {
     "name": "stderr",
     "output_type": "stream",
     "text": [
      "Unknown tag \"material\" in /robot[@name='plane']/link[@name='planeLink']/collision[1]\n",
      "Unknown tag \"contact\" in /robot[@name='plane']/link[@name='planeLink']\n",
      "Unknown attribute \"type\" in /robot[@name='pr2']/link[@name='base_laser_link']\n",
      "Unknown attribute \"type\" in /robot[@name='pr2']/link[@name='wide_stereo_optical_frame']\n",
      "Unknown attribute \"type\" in /robot[@name='pr2']/link[@name='narrow_stereo_optical_frame']\n",
      "Unknown attribute \"type\" in /robot[@name='pr2']/link[@name='laser_tilt_link']\n",
      "Unknown tag \"material\" in /robot[@name='plane']/link[@name='planeLink']/collision[1]\n",
      "Unknown tag \"contact\" in /robot[@name='plane']/link[@name='planeLink']\n",
      "Unknown attribute \"type\" in /robot[@name='pr2']/link[@name='base_laser_link']\n",
      "Unknown attribute \"type\" in /robot[@name='pr2']/link[@name='wide_stereo_optical_frame']\n",
      "Unknown attribute \"type\" in /robot[@name='pr2']/link[@name='narrow_stereo_optical_frame']\n",
      "Unknown attribute \"type\" in /robot[@name='pr2']/link[@name='laser_tilt_link']\n"
     ]
    }
   ],
   "source": [
    "from pycram.bullet_world import BulletWorld, Object\n",
    "from pycram.enums import ObjectType\n",
    "\n",
    "world = BulletWorld()\n",
    "pr2 = Object(\"pr2\", ObjectType.ROBOT, \"pr2.urdf\")"
   ]
  },
  {
   "cell_type": "markdown",
   "id": "0e6f3f2f",
   "metadata": {},
   "source": [
    "The following cell can be used after testing the examples, to close the BulletWorld."
   ]
  },
  {
   "cell_type": "code",
   "execution_count": 15,
   "id": "cc2e1bcd",
   "metadata": {},
   "outputs": [],
   "source": [
    "world.exit()"
   ]
  },
  {
   "cell_type": "markdown",
   "id": "cfab381f",
   "metadata": {},
   "source": [
    "## Move\n",
    "Move is used to let the robot drive to the given target pose. Motion designator are used in the same way as the other designator, first create a description then resolve it to the actual designator and lastly, perform the resolved designator. "
   ]
  },
  {
   "cell_type": "code",
   "execution_count": 2,
   "id": "ad9c75e3",
   "metadata": {},
   "outputs": [],
   "source": [
    "from pycram.designators.motion_designator import MoveMotion\n",
    "from pycram.process_module import simulated_robot\n",
    "\n",
    "with simulated_robot:\n",
    "    motion_description = MoveMotion(target=Pose([1, 0, 0], [0, 0, 0, 1]))\n",
    "    \n",
    "    motion_desig = motion_description.resolve()\n",
    "    \n",
    "    motion_desig.perform()"
   ]
  },
  {
   "cell_type": "code",
   "execution_count": 4,
   "id": "ac9f7766",
   "metadata": {},
   "outputs": [],
   "source": [
    "world.reset_bullet_world()"
   ]
  },
  {
   "cell_type": "markdown",
   "id": "855f2847",
   "metadata": {},
   "source": [
    "## MoveTCP\n",
    "MoveTCP is used to move the tool center point (TCP) of the given arm to the target position specified by the parameter. Like any designator we start by creating a description and then resolving and performing it."
   ]
  },
  {
   "cell_type": "code",
   "execution_count": 5,
   "id": "52aa961d",
   "metadata": {},
   "outputs": [],
   "source": [
    "from pycram.designators.motion_designator import MoveTCPMotion\n",
    "from pycram.process_module import simulated_robot\n",
    "\n",
    "with simulated_robot:\n",
    "    motion_description = MoveTCPMotion(target=Pose([0.5, 0.6, 0.6], [0, 0, 0, 1]), arm=\"left\")\n",
    "    \n",
    "    motion_description.resolve().perform()"
   ]
  },
  {
   "cell_type": "markdown",
   "id": "95a90490",
   "metadata": {},
   "source": [
    "## Looking\n",
    "Looking motion designator adjusts the robot state such that the cameras point towards the target pose. Although this motion designator takes the target as position and orientation, in reality only the position is used. "
   ]
  },
  {
   "cell_type": "code",
   "execution_count": 6,
   "id": "84ffcf03",
   "metadata": {},
   "outputs": [],
   "source": [
    "from pycram.designators.motion_designator import LookingMotion\n",
    "from pycram.process_module import simulated_robot\n",
    "\n",
    "with simulated_robot:\n",
    "    motion_description = LookingMotion(target=Pose([1, 1, 1], [0, 0, 0, 1]))\n",
    "    \n",
    "    motion_description.resolve().perform()"
   ]
  },
  {
   "cell_type": "markdown",
   "id": "1b8d67e9",
   "metadata": {},
   "source": [
    "## Move Gripper\n",
    "Move gripper moves the gripper of an arm to one of two states. The states can be ```open``` and ```close```, which open and close the gripper respectivly."
   ]
  },
  {
   "cell_type": "code",
   "execution_count": 7,
   "id": "f90adb34",
   "metadata": {},
   "outputs": [],
   "source": [
    "from pycram.designators.motion_designator import MoveGripperMotion\n",
    "from pycram.process_module import simulated_robot\n",
    "\n",
    "with simulated_robot:\n",
    "    motion_description = MoveGripperMotion(motion=\"open\", gripper=\"left\")\n",
    "    \n",
    "    motion_description.resolve().perform()"
   ]
  },
  {
   "cell_type": "markdown",
   "id": "85883ad4",
   "metadata": {},
   "source": [
    "## Detecting \n",
    "This is the motion designator implementation of detecting, if an object with the given object type is in the field of view (FOV) this motion designator will return an object designator describing the object.\n",
    "\n",
    "Since we need an object that we can detect, we will spawn a milk for this."
   ]
  },
  {
   "cell_type": "code",
   "execution_count": 8,
   "id": "4c9f3e27",
   "metadata": {},
   "outputs": [],
   "source": [
    "milk = Object(\"milk\", ObjectType.MILK, \"milk.stl\", pose=Pose([1.5, 0, 1]))"
   ]
  },
  {
   "cell_type": "code",
   "execution_count": 10,
   "id": "27eae08a",
   "metadata": {},
   "outputs": [
    {
     "name": "stdout",
     "output_type": "stream",
     "text": [
      "ObjectDesignatorDescription.Object(name=milk, type=ObjectType.MILK, bullet_world_object=Object(world=<pycram.bullet_world.BulletWorld object at 0x7f75848f3850>, \n",
      "local_transformer=<pycram.local_transformer.LocalTransformer object at 0x7f75848f3dc0>, \n",
      "name=milk, \n",
      "type=ObjectType.MILK, \n",
      "color=[1, 1, 1, 1], \n",
      "id=3, \n",
      "path=/home/jdech/workspace/ros/src/pycram-1/src/pycram/../../resources/cached/milk.urdf, \n",
      "joints: ..., \n",
      "links: ..., \n",
      "attachments: ..., \n",
      "cids: ..., \n",
      "original_pose=header: \n",
      "  seq: 0\n",
      "  stamp: \n",
      "    secs: 1699448584\n",
      "    nsecs: 433914899\n",
      "  frame_id: \"map\"\n",
      "pose: \n",
      "  position: \n",
      "    x: 1.5\n",
      "    y: 0.0\n",
      "    z: 1.0\n",
      "  orientation: \n",
      "    x: 0.0\n",
      "    y: 0.0\n",
      "    z: 0.0\n",
      "    w: 1.0, \n",
      "tf_frame=milk_3, \n",
      "urdf_object: ..., \n",
      "_current_pose=header: \n",
      "  seq: 0\n",
      "  stamp: \n",
      "    secs: 1699448584\n",
      "    nsecs: 433914899\n",
      "  frame_id: \"map\"\n",
      "pose: \n",
      "  position: \n",
      "    x: 1.5\n",
      "    y: 0.0\n",
      "    z: 1.0\n",
      "  orientation: \n",
      "    x: 0.0\n",
      "    y: 0.0\n",
      "    z: 0.0\n",
      "    w: 1.0, \n",
      "_current_link_poses={'milk_main': header: \n",
      "  seq: 0\n",
      "  stamp: \n",
      "    secs: 1699448584\n",
      "    nsecs: 433914899\n",
      "  frame_id: \"map\"\n",
      "pose: \n",
      "  position: \n",
      "    x: 1.5\n",
      "    y: 0.0\n",
      "    z: 1.0\n",
      "  orientation: \n",
      "    x: 0.0\n",
      "    y: 0.0\n",
      "    z: 0.0\n",
      "    w: 1.0}, \n",
      "_current_link_transforms={'milk_main': header: \n",
      "  seq: 0\n",
      "  stamp: \n",
      "    secs: 1699448598\n",
      "    nsecs: 510938167\n",
      "  frame_id: \"map\"\n",
      "child_frame_id: \"milk_3\"\n",
      "transform: \n",
      "  translation: \n",
      "    x: 1.5\n",
      "    y: 0.0\n",
      "    z: 1.0\n",
      "  rotation: \n",
      "    x: 0.0\n",
      "    y: 0.0\n",
      "    z: 0.0\n",
      "    w: 1.0}, \n",
      "_current_joint_states={}, \n",
      "base_origin_shift=[ 4.15300950e-04 -6.29518181e-05  8.96554102e-02], \n",
      "link_to_geometry={'milk_main': <urdf_parser_py.urdf.Mesh object at 0x7f75754ed250>}), _pose=<bound method Object.get_pose of Object(world=<pycram.bullet_world.BulletWorld object at 0x7f75848f3850>, \n",
      "local_transformer=<pycram.local_transformer.LocalTransformer object at 0x7f75848f3dc0>, \n",
      "name=milk, \n",
      "type=ObjectType.MILK, \n",
      "color=[1, 1, 1, 1], \n",
      "id=3, \n",
      "path=/home/jdech/workspace/ros/src/pycram-1/src/pycram/../../resources/cached/milk.urdf, \n",
      "joints: ..., \n",
      "links: ..., \n",
      "attachments: ..., \n",
      "cids: ..., \n",
      "original_pose=header: \n",
      "  seq: 0\n",
      "  stamp: \n",
      "    secs: 1699448584\n",
      "    nsecs: 433914899\n",
      "  frame_id: \"map\"\n",
      "pose: \n",
      "  position: \n",
      "    x: 1.5\n",
      "    y: 0.0\n",
      "    z: 1.0\n",
      "  orientation: \n",
      "    x: 0.0\n",
      "    y: 0.0\n",
      "    z: 0.0\n",
      "    w: 1.0, \n",
      "tf_frame=milk_3, \n",
      "urdf_object: ..., \n",
      "_current_pose=header: \n",
      "  seq: 0\n",
      "  stamp: \n",
      "    secs: 1699448584\n",
      "    nsecs: 433914899\n",
      "  frame_id: \"map\"\n",
      "pose: \n",
      "  position: \n",
      "    x: 1.5\n",
      "    y: 0.0\n",
      "    z: 1.0\n",
      "  orientation: \n",
      "    x: 0.0\n",
      "    y: 0.0\n",
      "    z: 0.0\n",
      "    w: 1.0, \n",
      "_current_link_poses={'milk_main': header: \n",
      "  seq: 0\n",
      "  stamp: \n",
      "    secs: 1699448584\n",
      "    nsecs: 433914899\n",
      "  frame_id: \"map\"\n",
      "pose: \n",
      "  position: \n",
      "    x: 1.5\n",
      "    y: 0.0\n",
      "    z: 1.0\n",
      "  orientation: \n",
      "    x: 0.0\n",
      "    y: 0.0\n",
      "    z: 0.0\n",
      "    w: 1.0}, \n",
      "_current_link_transforms={'milk_main': header: \n",
      "  seq: 0\n",
      "  stamp: \n",
      "    secs: 1699448598\n",
      "    nsecs: 510938167\n",
      "  frame_id: \"map\"\n",
      "child_frame_id: \"milk_3\"\n",
      "transform: \n",
      "  translation: \n",
      "    x: 1.5\n",
      "    y: 0.0\n",
      "    z: 1.0\n",
      "  rotation: \n",
      "    x: 0.0\n",
      "    y: 0.0\n",
      "    z: 0.0\n",
      "    w: 1.0}, \n",
      "_current_joint_states={}, \n",
      "base_origin_shift=[ 4.15300950e-04 -6.29518181e-05  8.96554102e-02], \n",
      "link_to_geometry={'milk_main': <urdf_parser_py.urdf.Mesh object at 0x7f75754ed250>})>, pose=header: \n",
      "  seq: 0\n",
      "  stamp: \n",
      "    secs: 1699448584\n",
      "    nsecs: 433914899\n",
      "  frame_id: \"map\"\n",
      "pose: \n",
      "  position: \n",
      "    x: 1.5\n",
      "    y: 0.0\n",
      "    z: 1.0\n",
      "  orientation: \n",
      "    x: 0.0\n",
      "    y: 0.0\n",
      "    z: 0.0\n",
      "    w: 1.0)\n"
     ]
    }
   ],
   "source": [
    "from pycram.designators.motion_designator import DetectingMotion, LookingMotion\n",
    "from pycram.process_module import simulated_robot\n",
    "\n",
    "with simulated_robot:\n",
    "    LookingMotion(target=Pose([1.5, 0, 1], [0, 0, 0, 1])).resolve().perform()\n",
    "    \n",
    "    motion_description = DetectingMotion(object_type=ObjectType.MILK)\n",
    "    \n",
    "    obj = motion_description.resolve().perform()\n",
    "    \n",
    "    print(obj)"
   ]
  },
  {
   "cell_type": "markdown",
   "id": "45255adf",
   "metadata": {},
   "source": [
    "## Move Arm Joints\n",
    "This motion designator moves one or both arms. Movement targets can either be a dictionary with joint name as key and target pose as value or a pre-defined configuration like 'park'."
   ]
  },
  {
   "cell_type": "code",
   "execution_count": 11,
   "id": "ce7655c1",
   "metadata": {},
   "outputs": [],
   "source": [
    "from pycram.designators.motion_designator import MoveArmJointsMotion\n",
    "from pycram.process_module import simulated_robot\n",
    "\n",
    "with simulated_robot:\n",
    "    motion_description = MoveArmJointsMotion(left_arm_config=\"park\", right_arm_poses={\"r_shoulder_pan_joint\": -0.7})\n",
    "    \n",
    "    motion_description.resolve().perform()"
   ]
  },
  {
   "cell_type": "markdown",
   "id": "ad11039f",
   "metadata": {},
   "source": [
    "## World State Detecting\n",
    "World state detecting is also used to detect objects, however, the object is not required to be in the FOV of the robot. As long as the object is somewhere in the beliefe state (BulletWorld) a resolved object designator will be returned.\n",
    "\n",
    "Sine we want to detect something we will spawn an object that we can detect. If you already spawned the milk the the previous example you can skip this step."
   ]
  },
  {
   "cell_type": "code",
   "execution_count": null,
   "id": "0f9f0ca8",
   "metadata": {},
   "outputs": [],
   "source": [
    "milk = Object(\"milk\", ObjectType.MILK, \"milk.stl\", pose=Pose([-1, 0, 1]))"
   ]
  },
  {
   "cell_type": "code",
   "execution_count": 13,
   "id": "4382bfa3",
   "metadata": {},
   "outputs": [
    {
     "name": "stdout",
     "output_type": "stream",
     "text": [
      "Object(world=<pycram.bullet_world.BulletWorld object at 0x7f75848f3850>, \n",
      "local_transformer=<pycram.local_transformer.LocalTransformer object at 0x7f75848f3dc0>, \n",
      "name=milk, \n",
      "type=ObjectType.MILK, \n",
      "color=[1, 1, 1, 1], \n",
      "id=3, \n",
      "path=/home/jdech/workspace/ros/src/pycram-1/src/pycram/../../resources/cached/milk.urdf, \n",
      "joints: ..., \n",
      "links: ..., \n",
      "attachments: ..., \n",
      "cids: ..., \n",
      "original_pose=header: \n",
      "  seq: 0\n",
      "  stamp: \n",
      "    secs: 1699448584\n",
      "    nsecs: 433914899\n",
      "  frame_id: \"map\"\n",
      "pose: \n",
      "  position: \n",
      "    x: 1.5\n",
      "    y: 0.0\n",
      "    z: 1.0\n",
      "  orientation: \n",
      "    x: 0.0\n",
      "    y: 0.0\n",
      "    z: 0.0\n",
      "    w: 1.0, \n",
      "tf_frame=milk_3, \n",
      "urdf_object: ..., \n",
      "_current_pose=header: \n",
      "  seq: 0\n",
      "  stamp: \n",
      "    secs: 1699448584\n",
      "    nsecs: 433914899\n",
      "  frame_id: \"map\"\n",
      "pose: \n",
      "  position: \n",
      "    x: 1.5\n",
      "    y: 0.0\n",
      "    z: 1.0\n",
      "  orientation: \n",
      "    x: 0.0\n",
      "    y: 0.0\n",
      "    z: 0.0\n",
      "    w: 1.0, \n",
      "_current_link_poses={'milk_main': header: \n",
      "  seq: 0\n",
      "  stamp: \n",
      "    secs: 1699448584\n",
      "    nsecs: 433914899\n",
      "  frame_id: \"map\"\n",
      "pose: \n",
      "  position: \n",
      "    x: 1.5\n",
      "    y: 0.0\n",
      "    z: 1.0\n",
      "  orientation: \n",
      "    x: 0.0\n",
      "    y: 0.0\n",
      "    z: 0.0\n",
      "    w: 1.0}, \n",
      "_current_link_transforms={'milk_main': header: \n",
      "  seq: 0\n",
      "  stamp: \n",
      "    secs: 1699448598\n",
      "    nsecs: 510938167\n",
      "  frame_id: \"map\"\n",
      "child_frame_id: \"milk_3\"\n",
      "transform: \n",
      "  translation: \n",
      "    x: 1.5\n",
      "    y: 0.0\n",
      "    z: 1.0\n",
      "  rotation: \n",
      "    x: 0.0\n",
      "    y: 0.0\n",
      "    z: 0.0\n",
      "    w: 1.0}, \n",
      "_current_joint_states={}, \n",
      "base_origin_shift=[ 4.15300950e-04 -6.29518181e-05  8.96554102e-02], \n",
      "link_to_geometry={'milk_main': <urdf_parser_py.urdf.Mesh object at 0x7f75754ed250>})\n"
     ]
    }
   ],
   "source": [
    "from pycram.designators.motion_designator import WorldStateDetectingMotion\n",
    "from pycram.process_module import simulated_robot\n",
    "\n",
    "with simulated_robot:\n",
    "    motion_description = WorldStateDetectingMotion(object_type=ObjectType.MILK)\n",
    "    \n",
    "    obj = motion_description.resolve().perform()\n",
    "    \n",
    "    print(obj)"
   ]
  },
  {
   "cell_type": "markdown",
   "id": "db240f2c",
   "metadata": {},
   "source": [
    "## Move Joints\n",
    "Move joints can move any number of joints of the robot, the designator takes two lists as parameter. The first list are the names of all joints that should be moved and the second list are the positions to which the joints should be moved."
   ]
  },
  {
   "cell_type": "code",
   "execution_count": 14,
   "id": "1e0191c8",
   "metadata": {},
   "outputs": [],
   "source": [
    "from pycram.designators.motion_designator import MoveJointsMotion\n",
    "from pycram.process_module import simulated_robot\n",
    "\n",
    "with simulated_robot:\n",
    "    motion_description = MoveJointsMotion(names=[\"torso_lift_joint\", \"r_shoulder_pan_joint\"], positions=[0.2, -1.2])\n",
    "    \n",
    "    motion_description.resolve().perform()"
   ]
  }
 ],
 "metadata": {
  "kernelspec": {
   "display_name": "Python 3",
   "language": "python",
   "name": "python3"
  },
  "language_info": {
   "codemirror_mode": {
    "name": "ipython",
    "version": 3
   },
   "file_extension": ".py",
   "mimetype": "text/x-python",
   "name": "python",
   "nbconvert_exporter": "python",
   "pygments_lexer": "ipython3",
   "version": "3.8.10"
  }
 },
 "nbformat": 4,
 "nbformat_minor": 5
}
