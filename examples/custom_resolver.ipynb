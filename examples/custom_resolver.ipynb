{
 "cells": [
  {
   "cell_type": "markdown",
   "metadata": {},
   "source": [
    "# Creating a custom Location Costmap\n",
    "\n",
    "In this tutorial we will walk through the creation of a costmap through machine learning.\n",
    "First we need to gather a lot of data. For that we will write a randomized experiment for grasping a couple of objects.\n",
    "In the experiment the robot will try to grasp a randomized object using random poses and torso heights."
   ]
  },
  {
   "cell_type": "code",
   "execution_count": 1,
   "metadata": {
    "ExecuteTime": {
     "end_time": "2023-09-28T12:09:37.151295524Z",
     "start_time": "2023-09-28T12:09:35.275798628Z"
    }
   },
   "outputs": [
    {
     "name": "stdout",
     "output_type": "stream",
     "text": [
      "Defaulting to user installation because normal site-packages is not writeable\n",
      "Requirement already satisfied: pyjpt in /home/jdech/.local/lib/python3.8/site-packages (0.1.30)\n",
      "Requirement already satisfied: dnutils>=0.3.12 in /home/jdech/.local/lib/python3.8/site-packages (from pyjpt) (0.3.12)\n",
      "Requirement already satisfied: graphviz>=0.20.1 in /usr/local/lib/python3.8/dist-packages (from pyjpt) (0.20.1)\n",
      "Requirement already satisfied: scipy>=1.10.1 in /home/jdech/.local/lib/python3.8/site-packages (from pyjpt) (1.10.1)\n",
      "Requirement already satisfied: numpy>=1.24.3 in /usr/local/lib/python3.8/dist-packages (from pyjpt) (1.24.3)\n",
      "Requirement already satisfied: matplotlib>=3.7.1 in /home/jdech/.local/lib/python3.8/site-packages (from pyjpt) (3.7.3)\n",
      "Requirement already satisfied: pandas>=2.0.1 in /home/jdech/.local/lib/python3.8/site-packages (from pyjpt) (2.0.3)\n",
      "Requirement already satisfied: arff>=0.9 in /home/jdech/.local/lib/python3.8/site-packages (from pyjpt) (0.9)\n",
      "Requirement already satisfied: fglib>=0.2.3 in /home/jdech/.local/lib/python3.8/site-packages (from pyjpt) (0.2.3)\n",
      "Requirement already satisfied: factorgraph>=0.0.3 in /home/jdech/.local/lib/python3.8/site-packages (from pyjpt) (0.0.3)\n",
      "Requirement already satisfied: deprecated in /usr/lib/python3/dist-packages (from pyjpt) (1.2.7)\n",
      "Requirement already satisfied: colored>=1.3.5 in /home/jdech/.local/lib/python3.8/site-packages (from dnutils>=0.3.12->pyjpt) (1.4.4)\n",
      "Requirement already satisfied: portalocker in /home/jdech/.local/lib/python3.8/site-packages (from dnutils>=0.3.12->pyjpt) (2.8.2)\n",
      "Requirement already satisfied: tabulate in /home/jdech/.local/lib/python3.8/site-packages (from dnutils>=0.3.12->pyjpt) (0.9.0)\n",
      "Requirement already satisfied: networkx>=2.0 in /usr/local/lib/python3.8/dist-packages (from fglib>=0.2.3->pyjpt) (3.1)\n",
      "Requirement already satisfied: contourpy>=1.0.1 in /home/jdech/.local/lib/python3.8/site-packages (from matplotlib>=3.7.1->pyjpt) (1.1.1)\n",
      "Requirement already satisfied: cycler>=0.10 in /usr/lib/python3/dist-packages (from matplotlib>=3.7.1->pyjpt) (0.10.0)\n",
      "Requirement already satisfied: fonttools>=4.22.0 in /home/jdech/.local/lib/python3.8/site-packages (from matplotlib>=3.7.1->pyjpt) (4.42.1)\n",
      "Requirement already satisfied: kiwisolver>=1.0.1 in /usr/lib/python3/dist-packages (from matplotlib>=3.7.1->pyjpt) (1.0.1)\n",
      "Requirement already satisfied: packaging>=20.0 in /usr/local/lib/python3.8/dist-packages (from matplotlib>=3.7.1->pyjpt) (23.0)\n",
      "Requirement already satisfied: pillow>=6.2.0 in /usr/local/lib/python3.8/dist-packages (from matplotlib>=3.7.1->pyjpt) (9.2.0)\n",
      "Requirement already satisfied: pyparsing>=2.3.1 in /usr/lib/python3/dist-packages (from matplotlib>=3.7.1->pyjpt) (2.4.6)\n",
      "Requirement already satisfied: python-dateutil>=2.7 in /usr/local/lib/python3.8/dist-packages (from matplotlib>=3.7.1->pyjpt) (2.8.2)\n",
      "Requirement already satisfied: importlib-resources>=3.2.0 in /usr/local/lib/python3.8/dist-packages (from matplotlib>=3.7.1->pyjpt) (5.9.0)\n",
      "Requirement already satisfied: pytz>=2020.1 in /usr/local/lib/python3.8/dist-packages (from pandas>=2.0.1->pyjpt) (2022.6)\n",
      "Requirement already satisfied: tzdata>=2022.1 in /home/jdech/.local/lib/python3.8/site-packages (from pandas>=2.0.1->pyjpt) (2023.3)\n",
      "Requirement already satisfied: zipp>=3.1.0 in /usr/local/lib/python3.8/dist-packages (from importlib-resources>=3.2.0->matplotlib>=3.7.1->pyjpt) (3.8.1)\n",
      "Requirement already satisfied: six>=1.5 in /usr/lib/python3/dist-packages (from python-dateutil>=2.7->matplotlib>=3.7.1->pyjpt) (1.14.0)\n",
      "\n",
      "\u001b[1m[\u001b[0m\u001b[34;49mnotice\u001b[0m\u001b[1;39;49m]\u001b[0m\u001b[39;49m A new release of pip is available: \u001b[0m\u001b[31;49m23.1.2\u001b[0m\u001b[39;49m -> \u001b[0m\u001b[32;49m23.3.1\u001b[0m\n",
      "\u001b[1m[\u001b[0m\u001b[34;49mnotice\u001b[0m\u001b[1;39;49m]\u001b[0m\u001b[39;49m To update, run: \u001b[0m\u001b[32;49mpython3 -m pip install --upgrade pip\u001b[0m\n"
     ]
    }
   ],
   "source": [
    "!pip install --upgrade pyjpt"
   ]
  },
  {
   "cell_type": "code",
   "execution_count": 2,
   "metadata": {
    "ExecuteTime": {
     "end_time": "2023-09-28T12:09:37.641997145Z",
     "start_time": "2023-09-28T12:09:37.160037427Z"
    }
   },
   "outputs": [],
   "source": [
    "import itertools\n",
    "import time\n",
    "from typing import Optional, List, Tuple\n",
    "\n",
    "import numpy as np\n",
    "\n",
    "import sqlalchemy.orm\n",
    "import tf\n",
    "import tqdm\n",
    "\n",
    "import pycram.orm.base\n",
    "import pycram.task\n",
    "from pycram.bullet_world import BulletWorld, Object as BulletWorldObject\n",
    "from pycram.designators.action_designator import MoveTorsoAction, PickUpAction, NavigateAction, ParkArmsAction\n",
    "from pycram.designators.object_designator import ObjectDesignatorDescription\n",
    "import pycram.enums\n",
    "from pycram.plan_failures import PlanFailure\n",
    "from pycram.process_module import ProcessModule\n",
    "\n",
    "from pycram.process_module import simulated_robot\n",
    "import sqlalchemy.orm\n",
    "from pycram.resolver.location.jpt_location import JPTCostmapLocation\n",
    "import pycram.orm\n",
    "from pycram.orm.base import Position, RobotState\n",
    "from pycram.orm.task import TaskTreeNode, Code\n",
    "from pycram.orm.action_designator import PickUpAction as ORMPickUpAction\n",
    "from pycram.orm.object_designator import ObjectDesignator\n",
    "import sqlalchemy.sql\n",
    "import pandas as pd\n",
    "\n",
    "from pycram.pose import Pose\n",
    "\n",
    "np.random.seed(420)\n",
    "\n",
    "ProcessModule.execution_delay = False\n",
    "pycram.orm.base.MetaData().description = \"Tutorial for learning from experience in a Grasping action.\"\n",
    "\n",
    "\n",
    "class GraspingExplorer:\n",
    "    \"\"\"Class to try randomized grasping plans.\"\"\"\n",
    "\n",
    "    world: Optional[BulletWorld]\n",
    "\n",
    "    def __init__(self, robots: Optional[List[Tuple[str, str]]] = None, objects: Optional[List[Tuple[str, str]]] = None,\n",
    "                 arms: Optional[List[str]] = None, grasps: Optional[List[str]] = None,\n",
    "                 samples_per_scenario: int = 1000):\n",
    "        \"\"\"\n",
    "        Create a GraspingExplorer.\n",
    "        :param robots: The robots to use\n",
    "        :param objects: The objects to try to grasp\n",
    "        :param arms: The arms of the robot to use\n",
    "        :param grasps: The grasp orientations to use\n",
    "        :param samples_per_scenario: The number of tries per scenario.\n",
    "        \"\"\"\n",
    "        # store exploration space\n",
    "        if not robots:\n",
    "            self.robots: List[Tuple[str, str]] = [(\"pr2\", \"pr2.urdf\")]\n",
    "\n",
    "        if not objects:\n",
    "            self.objects: List[Tuple[str, str]] = [(\"cereal\", pycram.enums.ObjectType.BREAKFAST_CEREAL, \"breakfast_cereal.stl\"), \n",
    "                                                   (\"bowl\", pycram.enums.ObjectType.BOWL, \"bowl.stl\"),\n",
    "                                                   (\"milk\", pycram.enums.ObjectType.MILK, \"milk.stl\"),\n",
    "                                                   (\"spoon\", pycram.enums.ObjectType.SPOON, \"spoon.stl\")]\n",
    "\n",
    "        if not arms:\n",
    "            self.arms: List[str] = [\"left\", \"right\"]\n",
    "\n",
    "        if not grasps:\n",
    "            self.grasps: List[str] = [\"left\", \"right\", \"front\", \"top\"]\n",
    "\n",
    "        # store trials per scenario\n",
    "        self.samples_per_scenario: int = samples_per_scenario\n",
    "\n",
    "        # chain hyperparameters\n",
    "        self.hyper_parameters = [self.robots, self.objects, self.arms, self.grasps]\n",
    "\n",
    "        self.total_tries = 0\n",
    "        self.total_failures = 0\n",
    "\n",
    "    def perform(self, session: sqlalchemy.orm.Session):\n",
    "        \"\"\"\n",
    "        Perform all experiments.\n",
    "        :param session: The database-session to insert the samples in.\n",
    "        \"\"\"\n",
    "\n",
    "        # create progress bar\n",
    "        progress_bar = tqdm.tqdm(\n",
    "            total=np.prod([len(p) for p in self.hyper_parameters]) * self.samples_per_scenario)\n",
    "        \n",
    "        self.world = BulletWorld(\"DIRECT\")\n",
    "\n",
    "        # for every robot\n",
    "        for robot, robot_urdf in self.robots:\n",
    "\n",
    "            # spawn it\n",
    "            robot = BulletWorldObject(robot, pycram.enums.ObjectType.ROBOT, robot_urdf)\n",
    "\n",
    "            # for every obj\n",
    "            for obj, obj_type, obj_stl in self.objects:\n",
    "\n",
    "                # spawn it\n",
    "                bw_object = BulletWorldObject(obj, obj_type, obj_stl, Pose([0, 0, 0.75], [0, 0, 0, 1]))\n",
    "\n",
    "                # create object designator\n",
    "                object_designator = ObjectDesignatorDescription(names=[obj])\n",
    "\n",
    "                # for every arm and grasp pose\n",
    "                for arm, grasp in itertools.product(self.arms, self.grasps):\n",
    "                    # sample positions in 2D\n",
    "                    positions = np.random.uniform([-2, -2], [2, 2], (self.samples_per_scenario, 2))\n",
    "\n",
    "                    # for every position\n",
    "                    for position in positions:\n",
    "\n",
    "                        # set z axis to 0\n",
    "                        position = [*position, 0]\n",
    "\n",
    "                        # calculate orientation for robot to face the object\n",
    "                        angle = np.arctan2(position[1], position[0]) + np.pi\n",
    "                        orientation = list(tf.transformations.quaternion_from_euler(0, 0, angle, axes=\"sxyz\"))\n",
    "\n",
    "                        # try to execute a grasping plan\n",
    "                        with simulated_robot:\n",
    "\n",
    "                            ParkArmsAction.Action(pycram.enums.Arms.BOTH).perform()\n",
    "                            # navigate to sampled position\n",
    "                            NavigateAction([Pose(position, orientation)]).resolve().perform()\n",
    "\n",
    "                            # move torso\n",
    "                            height = np.random.uniform(0., 0.33, 1)[0]\n",
    "                            MoveTorsoAction.Action(height).perform()\n",
    "\n",
    "                            # try to pick it up\n",
    "                            try:\n",
    "                                PickUpAction(object_designator, [arm], [grasp]).resolve().perform()\n",
    "\n",
    "                            # if it fails\n",
    "                            except PlanFailure:\n",
    "\n",
    "                                # update failure stats\n",
    "                                self.total_failures += 1\n",
    "\n",
    "                            # reset BulletWorld\n",
    "                            self.world.reset_bullet_world()\n",
    "\n",
    "                            # update progress bar\n",
    "                            self.total_tries += 1\n",
    "\n",
    "                            # insert into database\n",
    "                            pycram.task.task_tree.insert(session, use_progress_bar=False)\n",
    "                            pycram.task.reset_tree()\n",
    "\n",
    "                            progress_bar.update()\n",
    "                            progress_bar.set_postfix(success_rate=(self.total_tries - self.total_failures) /\n",
    "                                                                  self.total_tries)\n",
    "\n",
    "                bw_object.remove()\n",
    "            robot.remove()\n",
    "\n",
    "        self.world.exit()"
   ]
  },
  {
   "cell_type": "markdown",
   "metadata": {},
   "source": [
    "Next we have to establish a connection to a database and execute the experiment a couple of times. Note that the (few) number of samples we generate is only for demonstrations.\n",
    "For robust and reliable machine learning millions of samples are required."
   ]
  },
  {
   "cell_type": "code",
   "execution_count": 3,
   "metadata": {
    "ExecuteTime": {
     "end_time": "2023-09-28T12:09:37.655633966Z",
     "start_time": "2023-09-28T12:09:37.642944255Z"
    },
    "scrolled": false
   },
   "outputs": [
    {
     "name": "stderr",
     "output_type": "stream",
     "text": [
      "  0%|          | 0/960 [00:00<?, ?it/s]Unknown tag \"material\" in /robot[@name='plane']/link[@name='planeLink']/collision[1]\n",
      "Unknown tag \"contact\" in /robot[@name='plane']/link[@name='planeLink']\n",
      "Unknown tag \"material\" in /robot[@name='plane']/link[@name='planeLink']/collision[1]\n",
      "Unknown tag \"contact\" in /robot[@name='plane']/link[@name='planeLink']\n",
      "Unknown attribute \"type\" in /robot[@name='pr2']/link[@name='base_laser_link']\n",
      "Unknown attribute \"type\" in /robot[@name='pr2']/link[@name='wide_stereo_optical_frame']\n",
      "Unknown attribute \"type\" in /robot[@name='pr2']/link[@name='narrow_stereo_optical_frame']\n",
      "Unknown attribute \"type\" in /robot[@name='pr2']/link[@name='laser_tilt_link']\n",
      "Unknown attribute \"type\" in /robot[@name='pr2']/link[@name='base_laser_link']\n",
      "Unknown attribute \"type\" in /robot[@name='pr2']/link[@name='wide_stereo_optical_frame']\n",
      "Unknown attribute \"type\" in /robot[@name='pr2']/link[@name='narrow_stereo_optical_frame']\n",
      "Unknown attribute \"type\" in /robot[@name='pr2']/link[@name='laser_tilt_link']\n",
      "100%|██████████| 960/960 [00:59<00:00, 16.25it/s, success_rate=0.0938]"
     ]
    }
   ],
   "source": [
    "engine = sqlalchemy.create_engine(\"sqlite+pysqlite:///:memory:\")\n",
    "session = sqlalchemy.orm.Session(bind=engine)\n",
    "pycram.orm.base.Base.metadata.create_all(bind=engine)\n",
    "session.commit()\n",
    "\n",
    "explorer = GraspingExplorer(samples_per_scenario=30)\n",
    "explorer.perform(session)\n"
   ]
  },
  {
   "cell_type": "markdown",
   "metadata": {},
   "source": [
    "Write the database to a file if wanted."
   ]
  },
  {
   "cell_type": "code",
   "execution_count": 4,
   "metadata": {
    "ExecuteTime": {
     "end_time": "2023-09-28T12:09:37.670483503Z",
     "start_time": "2023-09-28T12:09:37.655749191Z"
    }
   },
   "outputs": [],
   "source": [
    "import os\n",
    "con = engine.raw_connection()\n",
    "\n",
    "with open(os.path.join(os.path. expanduser('~'), \"Documents\", \"costmap.dump\"), 'w') as f:\n",
    "    for line in con.iterdump():\n",
    "        f.write('%s\\n' % line)"
   ]
  },
  {
   "cell_type": "markdown",
   "metadata": {},
   "source": [
    "Read the database from a file instead of executing all the experiments."
   ]
  },
  {
   "cell_type": "code",
   "execution_count": 5,
   "metadata": {
    "ExecuteTime": {
     "end_time": "2023-09-28T12:09:37.769519341Z",
     "start_time": "2023-09-28T12:09:37.670730684Z"
    },
    "scrolled": true
   },
   "outputs": [],
   "source": [
    "import os\n",
    "\n",
    "engine = sqlalchemy.create_engine(\"sqlite+pysqlite:///:memory:\")\n",
    "session = sqlalchemy.orm.Session(bind=engine)\n",
    "# pycram.orm.base.Base.metadata.create_all(bind=engine)\n",
    "session.commit()\n",
    "\n",
    "with engine.connect() as con:\n",
    "    with open(os.path.join(os.path. expanduser('~'), \"Documents\", \"costmap.dump\")) as file:\n",
    "        raw_connection = engine.raw_connection()\n",
    "        # raw_cursor = raw_connection()\n",
    "        raw_connection.executescript(file.read())"
   ]
  },
  {
   "cell_type": "markdown",
   "metadata": {},
   "source": [
    "Next we will create a dataframe from the just created database by joining the relevant information together using the pycram.orm package.\n",
    "We will get the following columns:\n",
    "    - status of the grasping task\n",
    "    - type of the grasped object\n",
    "    - arm used to grasp\n",
    "    - grasp pose\n",
    "    - torso height relative to the object\n",
    "    - x and y coordinate of the robot relative to the object.\n",
    "\n",
    "Keep in mind that filtering before joining is always advisable, hence the subquery."
   ]
  },
  {
   "cell_type": "code",
   "execution_count": 6,
   "metadata": {
    "ExecuteTime": {
     "end_time": "2023-09-28T12:09:37.814592355Z",
     "start_time": "2023-09-28T12:09:37.771034447Z"
    },
    "scrolled": false
   },
   "outputs": [
    {
     "name": "stdout",
     "output_type": "stream",
     "text": [
      "        status                         type    arm grasp  \\\n",
      "0       FAILED  ObjectType.BREAKFAST_CEREAL   left  left   \n",
      "1       FAILED  ObjectType.BREAKFAST_CEREAL   left  left   \n",
      "2       FAILED  ObjectType.BREAKFAST_CEREAL   left  left   \n",
      "3       FAILED  ObjectType.BREAKFAST_CEREAL   left  left   \n",
      "4    SUCCEEDED  ObjectType.BREAKFAST_CEREAL   left  left   \n",
      "..         ...                          ...    ...   ...   \n",
      "955     FAILED             ObjectType.SPOON  right   top   \n",
      "956     FAILED             ObjectType.SPOON  right   top   \n",
      "957     FAILED             ObjectType.SPOON  right   top   \n",
      "958     FAILED             ObjectType.SPOON  right   top   \n",
      "959     FAILED             ObjectType.SPOON  right   top   \n",
      "\n",
      "     relative torso height         x         y  \n",
      "0                 0.480005 -0.737416 -0.187877  \n",
      "1                 0.668903 -0.932071 -1.564287  \n",
      "2                 0.724878  1.472666  0.518914  \n",
      "3                 0.553403 -0.589925 -1.729850  \n",
      "4                 0.690212  0.505402  0.394643  \n",
      "..                     ...       ...       ...  \n",
      "955               0.546126 -1.220945  0.039673  \n",
      "956               0.664514  1.547123  1.356915  \n",
      "957               0.554894  1.256923 -0.207460  \n",
      "958               0.493282  0.887036 -0.605063  \n",
      "959               0.581754 -1.087740  1.048258  \n",
      "\n",
      "[960 rows x 7 columns]\n"
     ]
    }
   ],
   "source": [
    "robot_pos = sqlalchemy.orm.aliased(Position)\n",
    "object_pos = sqlalchemy.orm.aliased(Position)\n",
    "\n",
    "filtered_code = session.query(Code.id, Code.designator).filter(Code.designator != None).subquery(\"filtered_code\")\n",
    "\n",
    "query = session.query(TaskTreeNode.status, ObjectDesignator.type, ORMPickUpAction.arm, ORMPickUpAction.grasp,\n",
    "                      sqlalchemy.label(\"relative torso height\", object_pos.z - RobotState.torso_height),\n",
    "                      sqlalchemy.label(\"x\", robot_pos.x - object_pos.x),\n",
    "                      sqlalchemy.label(\"y\", robot_pos.y - object_pos.y)). \\\n",
    "    join(filtered_code, filtered_code.c.id == TaskTreeNode.id). \\\n",
    "    join(ORMPickUpAction, ORMPickUpAction.id == filtered_code.c.designator). \\\n",
    "    join(RobotState, RobotState.id == ORMPickUpAction.robot_state). \\\n",
    "    join(robot_pos, RobotState.position == robot_pos.id). \\\n",
    "    join(ObjectDesignator, ObjectDesignator.id == ORMPickUpAction.object). \\\n",
    "    join(object_pos, ObjectDesignator.position == object_pos.id)\n",
    "\n",
    "df = pd.read_sql(query.statement, session.get_bind())\n",
    "df[\"status\"] = df[\"status\"].apply(lambda x: str(x.name))\n",
    "print(df)"
   ]
  },
  {
   "cell_type": "markdown",
   "metadata": {},
   "source": [
    "Next we will define a joint probability distributions over these points using, for instance, a Joint Probability Tree."
   ]
  },
  {
   "cell_type": "code",
   "execution_count": 7,
   "metadata": {
    "ExecuteTime": {
     "end_time": "2023-09-28T12:09:37.858551314Z",
     "start_time": "2023-09-28T12:09:37.814385589Z"
    }
   },
   "outputs": [
    {
     "data": {
      "text/plain": [
       "<JPT #innernodes = 71, #leaves = 72 (143 total)>"
      ]
     },
     "execution_count": 7,
     "metadata": {},
     "output_type": "execute_result"
    }
   ],
   "source": [
    "import jpt\n",
    "\n",
    "model = jpt.trees.JPT(variables=jpt.infer_from_dataframe(df, scale_numeric_types=False, precision=0.05),\n",
    "                      min_samples_leaf=10, min_impurity_improvement=0.01)\n",
    "model.fit(df)"
   ]
  },
  {
   "cell_type": "markdown",
   "metadata": {},
   "source": [
    "Finally, we will insert our model in the existing JPT-Costmap wrapper, create a toy simulation and visualize our result."
   ]
  },
  {
   "cell_type": "code",
   "execution_count": 8,
   "metadata": {
    "ExecuteTime": {
     "end_time": "2023-09-28T12:09:44.510253911Z",
     "start_time": "2023-09-28T12:09:37.859635172Z"
    }
   },
   "outputs": [
    {
     "name": "stderr",
     "output_type": "stream",
     "text": [
      "Unknown tag \"material\" in /robot[@name='plane']/link[@name='planeLink']/collision[1]\n",
      "Unknown tag \"contact\" in /robot[@name='plane']/link[@name='planeLink']\n",
      "Unknown attribute \"type\" in /robot[@name='pr2']/link[@name='base_laser_link']\n",
      "Unknown attribute \"type\" in /robot[@name='pr2']/link[@name='wide_stereo_optical_frame']\n",
      "Unknown attribute \"type\" in /robot[@name='pr2']/link[@name='narrow_stereo_optical_frame']\n",
      "Unknown attribute \"type\" in /robot[@name='pr2']/link[@name='laser_tilt_link']\n",
      "Unknown tag \"material\" in /robot[@name='plane']/link[@name='planeLink']/collision[1]\n",
      "Unknown tag \"contact\" in /robot[@name='plane']/link[@name='planeLink']\n",
      "Unknown attribute \"type\" in /robot[@name='pr2']/link[@name='base_laser_link']\n",
      "Unknown attribute \"type\" in /robot[@name='pr2']/link[@name='wide_stereo_optical_frame']\n",
      "Unknown attribute \"type\" in /robot[@name='pr2']/link[@name='narrow_stereo_optical_frame']\n",
      "Unknown attribute \"type\" in /robot[@name='pr2']/link[@name='laser_tilt_link']\n"
     ]
    }
   ],
   "source": [
    "ProcessModule.execution_delay = True\n",
    "\n",
    "world = BulletWorld(\"GUI\")\n",
    "robot = BulletWorldObject(\"pr2\", pycram.enums.ObjectType.ROBOT, \"pr2.urdf\")\n",
    "\n",
    "cereal = BulletWorldObject(\"milk\", pycram.enums.ObjectType.MILK, \"milk.stl\", pose=Pose([1, 0, 0.75], [0,0,0,1]))\n",
    "np.random.seed(420)\n",
    "cml = JPTCostmapLocation(cereal, reachable_for=robot, model=model)\n",
    "cml.visualize()\n",
    "with simulated_robot:\n",
    "    for sample in iter(cml):\n",
    "        ParkArmsAction.Action(pycram.enums.Arms.BOTH).perform()\n",
    "        NavigateAction.Action(sample.pose).perform()\n",
    "        MoveTorsoAction.Action(sample.torso_height).perform()\n",
    "        try:\n",
    "            PickUpAction.Action(\n",
    "                ObjectDesignatorDescription(types=[pycram.enums.ObjectType.MILK]).resolve(),\n",
    "                arm=sample.reachable_arm, grasp=sample.grasp).perform()\n",
    "            # time.sleep(5)\n",
    "        except pycram.plan_failures.PlanFailure as p:\n",
    "            continue\n",
    "        break\n",
    "world.exit()"
   ]
  },
  {
   "cell_type": "markdown",
   "metadata": {},
   "source": [
    "Congratulations, you made the PR2 learn how to grasp objects.\n",
    "Yeehaaw!🤠"
   ]
  }
 ],
 "metadata": {
  "kernelspec": {
   "display_name": "Python 3",
   "language": "python",
   "name": "python3"
  },
  "language_info": {
   "codemirror_mode": {
    "name": "ipython",
    "version": 3
   },
   "file_extension": ".py",
   "mimetype": "text/x-python",
   "name": "python",
   "nbconvert_exporter": "python",
   "pygments_lexer": "ipython3",
   "version": "3.8.10"
  }
 },
 "nbformat": 4,
 "nbformat_minor": 1
}
